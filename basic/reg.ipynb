{
 "cells": [
  {
   "cell_type": "markdown",
   "metadata": {},
   "source": [
    "#### 정규표현식 (Regular expression)\n",
    "- 특정한 패턴과 일치하는 문자열을 검색, 치환, 제거하는 기능 지원\n",
    "- re 모듈\n",
    "\n",
    "- 메타 문자 : . ^ $ * + ? {} [] \\ | ()\n",
    "- 정규식을 이용한 문자열 검색\n",
    "    - match() : 문자열의 처음부터 정규식솨 매치되는지 검사\n",
    "    - search() : 문자열 전체를 검색하여 정규식과 매치되는지 조사\n",
    "    - findall() : 정규식과 매치되는 모든 문자열을 리스트로 리턴\n",
    "    - finditer() : 정규식과 매치되는 모든 문자열을 iterator 객체로 리턴\n"
   ]
  },
  {
   "cell_type": "code",
   "execution_count": 4,
   "metadata": {},
   "outputs": [
    {
     "name": "stdout",
     "output_type": "stream",
     "text": [
      "<re.Match object; span=(0, 1), match='a'>\n"
     ]
    }
   ],
   "source": [
    "# [abc] : 문자열에 a or b or c 가 매치 되는지 찾기\n",
    "\n",
    "import re\n",
    "\n",
    "# 원본 문자열\n",
    "string = \"abc\"\n",
    "# 정규표현식 생성\n",
    "p = re.compile(\"[abc]\")\n",
    "\n",
    "m = p.match(string)\n",
    "print(m)"
   ]
  },
  {
   "cell_type": "code",
   "execution_count": 5,
   "metadata": {},
   "outputs": [
    {
     "name": "stdout",
     "output_type": "stream",
     "text": [
      "<re.Match object; span=(0, 3), match='DAA'>\n",
      "0\n",
      "3\n",
      "DAA\n",
      "(0, 3)\n"
     ]
    }
   ],
   "source": [
    "# . : \\n 을 제외한 모든 문자\n",
    "p = re.compile(\"D.A\")\n",
    "m = p.match(\"DAA\")\n",
    "print(m)\n",
    "print(m.start())\n",
    "print(m.end())\n",
    "print(m.group())\n",
    "print(m.span())"
   ]
  },
  {
   "cell_type": "markdown",
   "metadata": {},
   "source": [
    "- * : 반복, 0 ~ 무한\n",
    "- ca*t : ct, cat, caaaat\n",
    "\n",
    "- + : 반복, 0 ~ 무한\n",
    "- ca*t : ct, cat, caaaat\n",
    "\n",
    "- {m} : m - 원하는 숫자\n",
    "- ca{2}t : cat(x), caat\n",
    "\n",
    "- {m,n} : m- 원하는 최소 반복 횟수, n - 원하는 최대 반복횟수\n",
    "- ca{2,5}t : cat(x), caat,caaaaat\n",
    " \n",
    "- ? : 0~1\n",
    "- ab?c : abc, ac"
   ]
  },
  {
   "cell_type": "code",
   "execution_count": 10,
   "metadata": {},
   "outputs": [
    {
     "name": "stdout",
     "output_type": "stream",
     "text": [
      "<re.Match object; span=(0, 3), match='abc'>\n",
      "<re.Match object; span=(0, 2), match='ac'>\n",
      "<re.Match object; span=(0, 2), match='ac'>\n",
      "<re.Match object; span=(0, 11), match='abbbbbbbbbc'>\n",
      "None\n",
      "<re.Match object; span=(0, 15), match='abbbbbbbbbbbbbc'>\n"
     ]
    }
   ],
   "source": [
    "p = re.compile(\"ab?c\")\n",
    "m = p.match(\"abc\")\n",
    "print(m)\n",
    "\n",
    "m = p.match(\"ac\")\n",
    "print(m)\n",
    "\n",
    "p = re.compile(\"ab*c\")\n",
    "m = p.match(\"ac\")\n",
    "print(m)\n",
    "\n",
    "m = p.match(\"abbbbbbbbbc\")\n",
    "print(m)\n",
    "\n",
    "p = re.compile(\"ab+c\")\n",
    "m = p.match(\"ac\")\n",
    "print(m)\n",
    "\n",
    "m = p.match(\"abbbbbbbbbbbbbc\")\n",
    "print(m)"
   ]
  },
  {
   "cell_type": "code",
   "execution_count": 13,
   "metadata": {},
   "outputs": [
    {
     "name": "stdout",
     "output_type": "stream",
     "text": [
      "<re.Match object; span=(0, 1), match='a'>\n",
      "None\n",
      "None\n",
      "None\n"
     ]
    }
   ],
   "source": [
    "# [a-zA-Z] : 모든 알파벳\n",
    "# [0-9] : 모든 숫자\n",
    "# [bcd]\n",
    "# [^bcd] : bcd를 제외한\n",
    "\n",
    "p = re.compile(\"[a-gA-G]\")\n",
    "m = p.match(\"ac\")\n",
    "print(m)\n",
    "\n",
    "p = re.compile(\"a-zA-Z0-9\")\n",
    "m = p.match(\"ac\")\n",
    "print(m)\n",
    "\n",
    "p = re.compile(\"^a-zA-Z0-9\")\n",
    "m = p.match(\"ac\")\n",
    "print(m)\n",
    "\n",
    "p = re.compile(\"a-zA-Z0-9\")\n",
    "m = p.match(\"abc1234\")\n",
    "print(m)"
   ]
  },
  {
   "cell_type": "markdown",
   "metadata": {},
   "source": [
    "- 자주 사용하는 문자 클래스\n",
    "    - \\d == [0-9], \\D == [^0-9]\n",
    "    - \\w == [a-zA-Z0-9], \\W == [^a-zA-Z0-9]\n",
    "    - \\s == [\\t\\n\\r\\f\\v], S == [^\\t\\n\\r\\f\\v](공백)"
   ]
  },
  {
   "cell_type": "code",
   "execution_count": 17,
   "metadata": {},
   "outputs": [
    {
     "name": "stdout",
     "output_type": "stream",
     "text": [
      "<re.Match object; span=(0, 7), match='abc1234'>\n"
     ]
    }
   ],
   "source": [
    "p = re.compile(r\"[\\w]+\")\n",
    "m = p.match(\"abc1234\")\n",
    "print(m)"
   ]
  },
  {
   "cell_type": "code",
   "execution_count": 20,
   "metadata": {},
   "outputs": [
    {
     "name": "stdout",
     "output_type": "stream",
     "text": [
      "['Game', 'of', 'Life', 'is', 'too', 'short']\n",
      "<callable_iterator object at 0x0000027AF332EFB0>\n",
      "Game\n",
      "of\n",
      "Life\n",
      "is\n",
      "too\n",
      "short\n"
     ]
    }
   ],
   "source": [
    "result = p.findall(\"Game of Life is too short\")\n",
    "print(result)\n",
    "\n",
    "result = p.finditer(\"Game of Life is too short\")\n",
    "print(result)\n",
    "for r in result:\n",
    "    print(r.group())"
   ]
  },
  {
   "cell_type": "code",
   "execution_count": 21,
   "metadata": {},
   "outputs": [
    {
     "name": "stdout",
     "output_type": "stream",
     "text": [
      "<re.Match object; span=(0, 6), match='abcdef'>\n"
     ]
    }
   ],
   "source": [
    "m = re.match(r\"[a-z]+\",\"abcdef\")\n",
    "print(m)"
   ]
  },
  {
   "cell_type": "code",
   "execution_count": 27,
   "metadata": {},
   "outputs": [
    {
     "name": "stdout",
     "output_type": "stream",
     "text": [
      "주민등록번호\n",
      "800215-*******\n",
      "821030-*******\n",
      "841230-*******\n",
      "790903-*******\n",
      "800125-*******\n",
      "820612-*******\n"
     ]
    }
   ],
   "source": [
    "# data_kr\n",
    "# 주민번호 뒷자리를 *로 바꿔서 출력\n",
    "from openpyxl import load_workbook\n",
    "wb = load_workbook(\"./data_kr.xlsx\")\n",
    "ws = wb.active\n",
    "\n",
    "p = re.compile(\"[0-9]{7}\")\n",
    "\n",
    "for row in ws.rows:\n",
    "    # print(row[1].value)\n",
    "    print(re.sub(p,\"*******\",row[1].value))"
   ]
  },
  {
   "cell_type": "code",
   "execution_count": 28,
   "metadata": {},
   "outputs": [
    {
     "data": {
      "text/plain": [
       "'아이폰</b>'"
      ]
     },
     "execution_count": 28,
     "metadata": {},
     "output_type": "execute_result"
    }
   ],
   "source": [
    "# 태그 제거 후 아이폰 문자 남기기\n",
    "string = \"<b>아이폰</b>\"\n",
    "\n",
    "p = re.compile(\"<.+?>\")\n",
    "re.sub(p,\"\",string)"
   ]
  },
  {
   "cell_type": "code",
   "execution_count": null,
   "metadata": {},
   "outputs": [],
   "source": []
  }
 ],
 "metadata": {
  "kernelspec": {
   "display_name": "venv",
   "language": "python",
   "name": "python3"
  },
  "language_info": {
   "codemirror_mode": {
    "name": "ipython",
    "version": 3
   },
   "file_extension": ".py",
   "mimetype": "text/x-python",
   "name": "python",
   "nbconvert_exporter": "python",
   "pygments_lexer": "ipython3",
   "version": "3.13.1"
  }
 },
 "nbformat": 4,
 "nbformat_minor": 2
}
