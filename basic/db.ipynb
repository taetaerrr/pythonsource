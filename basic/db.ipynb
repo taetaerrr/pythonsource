{
 "cells": [
  {
   "cell_type": "markdown",
   "metadata": {},
   "source": [
    "#### 파이썬\n",
    "- 내부 DB 존재 : SQLite\n",
    "- 외부 DB 연동 가능 : oracle, mongodb...."
   ]
  },
  {
   "cell_type": "code",
   "execution_count": 2,
   "metadata": {},
   "outputs": [
    {
     "name": "stdout",
     "output_type": "stream",
     "text": [
      "3.45.3\n"
     ]
    }
   ],
   "source": [
    "import sqlite3\n",
    "\n",
    "print(sqlite3.sqlite_version)"
   ]
  },
  {
   "cell_type": "code",
   "execution_count": 3,
   "metadata": {},
   "outputs": [
    {
     "name": "stdout",
     "output_type": "stream",
     "text": [
      "2025-01-03 11:12:08.336891\n"
     ]
    },
    {
     "data": {
      "text/plain": [
       "'2025-01-03 11:12:08'"
      ]
     },
     "execution_count": 3,
     "metadata": {},
     "output_type": "execute_result"
    }
   ],
   "source": [
    "from datetime import datetime\n",
    "\n",
    "now = datetime.now()\n",
    "print(now)\n",
    "\n",
    "# format 지정\n",
    "today = now.strftime(\"%Y-%m-%d %H:%M:%S\")\n",
    "today"
   ]
  },
  {
   "cell_type": "code",
   "execution_count": 4,
   "metadata": {},
   "outputs": [],
   "source": [
    "# db 생성\n",
    "# isolation_level : auto commit 지원여부\n",
    "conn = sqlite3.connect(\"./test.db\",isolation_level=None)"
   ]
  },
  {
   "cell_type": "code",
   "execution_count": 5,
   "metadata": {},
   "outputs": [
    {
     "data": {
      "text/plain": [
       "<sqlite3.Cursor at 0x18f41212dc0>"
      ]
     },
     "execution_count": 5,
     "metadata": {},
     "output_type": "execute_result"
    }
   ],
   "source": [
    "# cursor \n",
    "\n",
    "cursor = conn.cursor()\n",
    "\n",
    "# 테이블 생성\n",
    "# TEXT : varchar2, NUMERIC, INTEGER : 숫자\n",
    "sql = \"CREATE TABLE IF NOT EXISTS users(id INTEGER PRIMARY KEY, username TEXT, email TEXT, phone TEXT, regdate TEXT)\"\n",
    "cursor.execute(sql)"
   ]
  },
  {
   "cell_type": "code",
   "execution_count": 6,
   "metadata": {},
   "outputs": [
    {
     "data": {
      "text/plain": [
       "<sqlite3.Cursor at 0x18f41212dc0>"
      ]
     },
     "execution_count": 6,
     "metadata": {},
     "output_type": "execute_result"
    }
   ],
   "source": [
    "# 삽입\n",
    "now = datetime.now()\n",
    "today = now.strftime(\"%Y-%m-%d %H:%M:%S\")\n",
    "\n",
    "sql = \"INSERT INTO users(id,username,email,phone,regdate) VALUES(1, 'Kim','kim@naver.com', '010-1234-1234',?)\"\n",
    "cursor.execute(sql, (today,))"
   ]
  },
  {
   "cell_type": "code",
   "execution_count": 7,
   "metadata": {},
   "outputs": [
    {
     "data": {
      "text/plain": [
       "<sqlite3.Cursor at 0x18f41212dc0>"
      ]
     },
     "execution_count": 7,
     "metadata": {},
     "output_type": "execute_result"
    }
   ],
   "source": [
    "now = datetime.now()\n",
    "today = now.strftime(\"%Y-%m-%d %H:%M:%S\")\n",
    "\n",
    "sql = \"INSERT INTO users(id,username,email,phone,regdate) VALUES(?,?,?,?,?)\"\n",
    "cursor.execute(sql, (2, 'Choi','choi@naver.com', '010-4567-1234',today))"
   ]
  },
  {
   "cell_type": "code",
   "execution_count": 8,
   "metadata": {},
   "outputs": [
    {
     "data": {
      "text/plain": [
       "<sqlite3.Cursor at 0x18f41212dc0>"
      ]
     },
     "execution_count": 8,
     "metadata": {},
     "output_type": "execute_result"
    }
   ],
   "source": [
    "now = datetime.now()\n",
    "today = now.strftime(\"%Y-%m-%d %H:%M:%S\")\n",
    "user_list = (\n",
    "    (3, 'Park','park@naver.com', '010-4567-1234',today),\n",
    "    (4, 'Lee','lee@naver.com', '010-7890-1234',today),\n",
    "    (5, 'Yoo','yoo@naver.com', '010-2583-1234',today)\n",
    ")\n",
    "sql = \"INSERT INTO users(id,username,email,phone,regdate) VALUES(?,?,?,?,?)\"\n",
    "cursor.executemany(sql, user_list)"
   ]
  },
  {
   "cell_type": "code",
   "execution_count": 10,
   "metadata": {},
   "outputs": [
    {
     "data": {
      "text/plain": [
       "(1, 'Kim', 'kim@naver.com', '010-1234-1234', '2025-01-03 11:50:54')"
      ]
     },
     "execution_count": 10,
     "metadata": {},
     "output_type": "execute_result"
    }
   ],
   "source": [
    "# 조회 : fetchone(), fetchmany(), fetchall()\n",
    "\n",
    "sql = \"SELECT * FROM users\"\n",
    "cursor.execute(sql)\n",
    "\n",
    "cursor.fetchone()"
   ]
  },
  {
   "cell_type": "code",
   "execution_count": 12,
   "metadata": {},
   "outputs": [
    {
     "data": {
      "text/plain": [
       "[(3, 'Park', 'park@naver.com', '010-4567-1234', '2025-01-03 11:57:24'),\n",
       " (4, 'Lee', 'lee@naver.com', '010-7890-1234', '2025-01-03 11:57:24'),\n",
       " (5, 'Yoo', 'yoo@naver.com', '010-2583-1234', '2025-01-03 11:57:24')]"
      ]
     },
     "execution_count": 12,
     "metadata": {},
     "output_type": "execute_result"
    }
   ],
   "source": [
    "cursor.fetchmany(size=3)"
   ]
  },
  {
   "cell_type": "code",
   "execution_count": 14,
   "metadata": {},
   "outputs": [
    {
     "data": {
      "text/plain": [
       "[(1, 'Kim', 'kim@naver.com', '010-1234-1234', '2025-01-03 11:50:54'),\n",
       " (2, 'Choi', 'choi@naver.com', '010-4567-1234', '2025-01-03 11:54:51'),\n",
       " (3, 'Park', 'park@naver.com', '010-4567-1234', '2025-01-03 11:57:24'),\n",
       " (4, 'Lee', 'lee@naver.com', '010-7890-1234', '2025-01-03 11:57:24'),\n",
       " (5, 'Yoo', 'yoo@naver.com', '010-2583-1234', '2025-01-03 11:57:24')]"
      ]
     },
     "execution_count": 14,
     "metadata": {},
     "output_type": "execute_result"
    }
   ],
   "source": [
    "sql = \"SELECT * FROM users\"\n",
    "cursor.execute(sql)\n",
    "\n",
    "cursor.fetchall()"
   ]
  },
  {
   "cell_type": "code",
   "execution_count": 15,
   "metadata": {},
   "outputs": [
    {
     "name": "stdout",
     "output_type": "stream",
     "text": [
      "(1, 'Kim', 'kim@naver.com', '010-1234-1234', '2025-01-03 11:50:54')\n",
      "(2, 'Choi', 'choi@naver.com', '010-4567-1234', '2025-01-03 11:54:51')\n",
      "(3, 'Park', 'park@naver.com', '010-4567-1234', '2025-01-03 11:57:24')\n",
      "(4, 'Lee', 'lee@naver.com', '010-7890-1234', '2025-01-03 11:57:24')\n",
      "(5, 'Yoo', 'yoo@naver.com', '010-2583-1234', '2025-01-03 11:57:24')\n"
     ]
    }
   ],
   "source": [
    "sql = \"SELECT * FROM users\"\n",
    "cursor.execute(sql)\n",
    "\n",
    "for row in cursor.fetchall():\n",
    "    print(row)"
   ]
  },
  {
   "cell_type": "code",
   "execution_count": 16,
   "metadata": {},
   "outputs": [
    {
     "data": {
      "text/plain": [
       "(3, 'Park', 'park@naver.com', '010-4567-1234', '2025-01-03 11:57:24')"
      ]
     },
     "execution_count": 16,
     "metadata": {},
     "output_type": "execute_result"
    }
   ],
   "source": [
    "# 특정 id 조회\n",
    "\n",
    "sql = \"SELECT * FROM users WHERE id=?\"\n",
    "cursor.execute(sql, (3,))\n",
    "\n",
    "cursor.fetchone()"
   ]
  },
  {
   "cell_type": "code",
   "execution_count": 17,
   "metadata": {},
   "outputs": [
    {
     "data": {
      "text/plain": [
       "(4, 'Lee', 'lee@naver.com', '010-7890-1234', '2025-01-03 11:57:24')"
      ]
     },
     "execution_count": 17,
     "metadata": {},
     "output_type": "execute_result"
    }
   ],
   "source": [
    "# format 사용\n",
    "sql = \"SELECT * FROM users WHERE id=%d\"\n",
    "cursor.execute(sql % 4)\n",
    "\n",
    "cursor.fetchone()"
   ]
  },
  {
   "cell_type": "code",
   "execution_count": 18,
   "metadata": {},
   "outputs": [
    {
     "data": {
      "text/plain": [
       "(5, 'Yoo', 'yoo@naver.com', '010-2583-1234', '2025-01-03 11:57:24')"
      ]
     },
     "execution_count": 18,
     "metadata": {},
     "output_type": "execute_result"
    }
   ],
   "source": [
    "# dict 사용\n",
    "sql = \"SELECT * FROM users WHERE id=:id\"\n",
    "cursor.execute(sql, {\"id\":5})\n",
    "\n",
    "cursor.fetchone()"
   ]
  },
  {
   "cell_type": "code",
   "execution_count": 19,
   "metadata": {},
   "outputs": [
    {
     "data": {
      "text/plain": [
       "[(2, 'Choi', 'choi@naver.com', '010-4567-1234', '2025-01-03 11:54:51'),\n",
       " (4, 'Lee', 'lee@naver.com', '010-7890-1234', '2025-01-03 11:57:24')]"
      ]
     },
     "execution_count": 19,
     "metadata": {},
     "output_type": "execute_result"
    }
   ],
   "source": [
    "# id가 2 or 4\n",
    "\n",
    "sql = \"SELECT * FROM users WHERE id IN (?,?)\"\n",
    "cursor.execute(sql, (2,4))\n",
    "\n",
    "cursor.fetchall()"
   ]
  },
  {
   "cell_type": "code",
   "execution_count": 20,
   "metadata": {},
   "outputs": [
    {
     "data": {
      "text/plain": [
       "[(2, 'Choi', 'choi@naver.com', '010-4567-1234', '2025-01-03 11:54:51'),\n",
       " (4, 'Lee', 'lee@naver.com', '010-7890-1234', '2025-01-03 11:57:24')]"
      ]
     },
     "execution_count": 20,
     "metadata": {},
     "output_type": "execute_result"
    }
   ],
   "source": [
    "sql = \"SELECT * FROM users WHERE id IN (%d,%d)\"\n",
    "cursor.execute(sql % (2,4))\n",
    "\n",
    "cursor.fetchall()"
   ]
  },
  {
   "cell_type": "code",
   "execution_count": 21,
   "metadata": {},
   "outputs": [
    {
     "data": {
      "text/plain": [
       "[(2, 'Choi', 'choi@naver.com', '010-4567-1234', '2025-01-03 11:54:51'),\n",
       " (4, 'Lee', 'lee@naver.com', '010-7890-1234', '2025-01-03 11:57:24')]"
      ]
     },
     "execution_count": 21,
     "metadata": {},
     "output_type": "execute_result"
    }
   ],
   "source": [
    "sql = \"SELECT * FROM users WHERE id=:id1 OR id=:id2\"\n",
    "cursor.execute(sql, {\"id1\":2, \"id2\":4})\n",
    "\n",
    "cursor.fetchall()"
   ]
  },
  {
   "cell_type": "code",
   "execution_count": 22,
   "metadata": {},
   "outputs": [],
   "source": [
    "# 수정 \n",
    "\n",
    "sql = \"UPDATE users SET phone = ? WHERE id = ?\"\n",
    "cursor.execute(sql, ('010-6987-7890',3))\n",
    "conn.commit() "
   ]
  },
  {
   "cell_type": "code",
   "execution_count": 25,
   "metadata": {},
   "outputs": [],
   "source": [
    "sql = \"UPDATE users SET phone = '%s' WHERE id = %d\"\n",
    "cursor.execute(sql % ('010-6987-7890',4))\n",
    "conn.commit() "
   ]
  },
  {
   "cell_type": "code",
   "execution_count": 26,
   "metadata": {},
   "outputs": [],
   "source": [
    "sql = \"UPDATE users SET username=:username WHERE id = :id\"\n",
    "cursor.execute(sql , {\"username\":'coo',\"id\":5})\n",
    "conn.commit() "
   ]
  },
  {
   "cell_type": "code",
   "execution_count": 27,
   "metadata": {},
   "outputs": [],
   "source": [
    "# 삭제\n",
    "\n",
    "sql = \"DELETE FROM users WHERE id=?\"\n",
    "cursor.execute(sql, (3,))\n",
    "conn.commit()"
   ]
  },
  {
   "cell_type": "code",
   "execution_count": 28,
   "metadata": {},
   "outputs": [
    {
     "data": {
      "text/plain": [
       "<sqlite3.Cursor at 0x18f41212dc0>"
      ]
     },
     "execution_count": 28,
     "metadata": {},
     "output_type": "execute_result"
    }
   ],
   "source": [
    "sql = \"DELETE FROM users WHERE id=%d\"\n",
    "cursor.execute(sql % 4)\n",
    "# conn.commit()"
   ]
  },
  {
   "cell_type": "code",
   "execution_count": 29,
   "metadata": {},
   "outputs": [
    {
     "data": {
      "text/plain": [
       "<sqlite3.Cursor at 0x18f41212dc0>"
      ]
     },
     "execution_count": 29,
     "metadata": {},
     "output_type": "execute_result"
    }
   ],
   "source": [
    "sql = \"DELETE FROM users WHERE id=:id\"\n",
    "cursor.execute(sql,{\"id\":5})"
   ]
  },
  {
   "cell_type": "code",
   "execution_count": 30,
   "metadata": {},
   "outputs": [],
   "source": [
    "conn.commit()"
   ]
  },
  {
   "cell_type": "code",
   "execution_count": null,
   "metadata": {},
   "outputs": [],
   "source": []
  }
 ],
 "metadata": {
  "kernelspec": {
   "display_name": "venv",
   "language": "python",
   "name": "python3"
  },
  "language_info": {
   "codemirror_mode": {
    "name": "ipython",
    "version": 3
   },
   "file_extension": ".py",
   "mimetype": "text/x-python",
   "name": "python",
   "nbconvert_exporter": "python",
   "pygments_lexer": "ipython3",
   "version": "3.13.1"
  }
 },
 "nbformat": 4,
 "nbformat_minor": 2
}
