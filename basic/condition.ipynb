{
 "cells": [
  {
   "cell_type": "code",
   "execution_count": 4,
   "metadata": {},
   "outputs": [
    {
     "name": "stdout",
     "output_type": "stream",
     "text": [
      "a는 100과 200 사이에있다\n"
     ]
    }
   ],
   "source": [
    "a = 150\n",
    "if 100 <= a <= 200:\n",
    "    print(\"a는 100과 200 사이에있다\")"
   ]
  },
  {
   "cell_type": "code",
   "execution_count": 7,
   "metadata": {},
   "outputs": [
    {
     "name": "stdout",
     "output_type": "stream",
     "text": [
      "2024-12-20 12:56:32.004197\n",
      "2024년 12월 20일 12분 56초\n",
      "오후\n"
     ]
    }
   ],
   "source": [
    "# 지금 현재 시간이 오전, 오후 출력\n",
    "import datetime\n",
    "now = datetime.datetime.now()\n",
    "\n",
    "print(now)\n",
    "print(\"{}년 {}월 {}일 {}분 {}초\".format(now.year,now.month,now.day,now.hour,now.minute,now.second))\n",
    "\n",
    "if now.hour < 12:\n",
    "    print(\"오전\")\n",
    "else:\n",
    "    print(\"오후\")"
   ]
  },
  {
   "cell_type": "code",
   "execution_count": null,
   "metadata": {},
   "outputs": [],
   "source": []
  },
  {
   "cell_type": "markdown",
   "metadata": {},
   "source": [
    "조건문"
   ]
  },
  {
   "cell_type": "markdown",
   "metadata": {},
   "source": [
    "{}을 사용하지 않고 tab 처리"
   ]
  },
  {
   "cell_type": "markdown",
   "metadata": {},
   "source": [
    "if True:\n"
   ]
  }
 ],
 "metadata": {
  "kernelspec": {
   "display_name": "venv",
   "language": "python",
   "name": "python3"
  },
  "language_info": {
   "codemirror_mode": {
    "name": "ipython",
    "version": 3
   },
   "file_extension": ".py",
   "mimetype": "text/x-python",
   "name": "python",
   "nbconvert_exporter": "python",
   "pygments_lexer": "ipython3",
   "version": "3.13.1"
  }
 },
 "nbformat": 4,
 "nbformat_minor": 2
}
