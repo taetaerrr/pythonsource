{
 "cells": [
  {
   "cell_type": "markdown",
   "metadata": {},
   "source": [
    "- 모듈 : 함수, 변수, 클래스를 모아 놓은 파이썬 파일\n",
    "-        .py 로 작성된 파일은 모듈임\n",
    "\n",
    "\n",
    "- 파이썬에서 제공되는 기본 모듈 사용하기\n",
    "- 모듈 불러오기\n",
    "    - import 모듈명(모듈 전체 불러오기)\n",
    "    - from 모듈명 import 함수명(일부분 불러오기)"
   ]
  },
  {
   "cell_type": "code",
   "execution_count": 1,
   "metadata": {},
   "outputs": [
    {
     "name": "stdout",
     "output_type": "stream",
     "text": [
      "['__doc__', '__loader__', '__name__', '__package__', '__spec__', 'acos', 'acosh', 'asin', 'asinh', 'atan', 'atan2', 'atanh', 'cbrt', 'ceil', 'comb', 'copysign', 'cos', 'cosh', 'degrees', 'dist', 'e', 'erf', 'erfc', 'exp', 'exp2', 'expm1', 'fabs', 'factorial', 'floor', 'fma', 'fmod', 'frexp', 'fsum', 'gamma', 'gcd', 'hypot', 'inf', 'isclose', 'isfinite', 'isinf', 'isnan', 'isqrt', 'lcm', 'ldexp', 'lgamma', 'log', 'log10', 'log1p', 'log2', 'modf', 'nan', 'nextafter', 'perm', 'pi', 'pow', 'prod', 'radians', 'remainder', 'sin', 'sinh', 'sqrt', 'sumprod', 'tan', 'tanh', 'tau', 'trunc', 'ulp']\n",
      "4\n",
      "0.8414709848078965\n",
      "0.5403023058681398\n",
      "3\n"
     ]
    }
   ],
   "source": [
    "import math\n",
    "\n",
    "print(dir(math))  # math 가 제공해주는 함수들\n",
    "\n",
    "# math 모듈에서 제공하는 함수 호출\n",
    "print(math.ceil(3.14))\n",
    "print(math.sin(1))\n",
    "print(math.cos(1))\n",
    "print(math.floor(3.14))"
   ]
  },
  {
   "cell_type": "code",
   "execution_count": 7,
   "metadata": {},
   "outputs": [
    {
     "name": "stdout",
     "output_type": "stream",
     "text": [
      "0.17147644505677173\n",
      "41\n",
      "18.81778168953084\n",
      "2\n",
      "[4, 1, 7, 5, 6, 3, 2]\n",
      "[4, 7]\n"
     ]
    }
   ],
   "source": [
    "import random\n",
    "\n",
    "# Math.random() 같음\n",
    "# 0.0 <= x < 1.0\n",
    "print(random.random())\n",
    "print(random.randrange(40,100))\n",
    "print(random.uniform(10,20)) \n",
    "\n",
    "print(random.choice([1,2,3,4,5,6,7]))\n",
    "list1 = [1,2,3,4,5,6,7]\n",
    "random.shuffle(list1)\n",
    "print(list1)\n",
    "\n",
    "# 리스트에서 무작위로 2개 추출\n",
    "print(random.sample(list1, k=2))"
   ]
  },
  {
   "cell_type": "code",
   "execution_count": 8,
   "metadata": {},
   "outputs": [
    {
     "data": {
      "text/plain": [
       "datetime.datetime(2025, 1, 2, 17, 16, 50, 865708)"
      ]
     },
     "execution_count": 8,
     "metadata": {},
     "output_type": "execute_result"
    }
   ],
   "source": [
    "import datetime\n",
    "datetime.datetime.now()\n"
   ]
  },
  {
   "cell_type": "code",
   "execution_count": 10,
   "metadata": {},
   "outputs": [
    {
     "name": "stdout",
     "output_type": "stream",
     "text": [
      "0.8414709848078965\n",
      "0.5403023058681398\n",
      "1\n",
      "2\n",
      "18\n",
      "[5, 2]\n",
      "7\n",
      "2025-01-02 17:40:33.586028\n"
     ]
    }
   ],
   "source": [
    "from math import sin, cos, floor, ceil\n",
    "from random import randrange, sample, choice\n",
    "from datetime import datetime\n",
    "\n",
    "print(sin(1))\n",
    "print(cos(1))\n",
    "print(floor(1.15))\n",
    "print(ceil(1.15))\n",
    "\n",
    "print(randrange(10,20))\n",
    "print(sample(list1, k=2))\n",
    "print(choice(list1))\n",
    "print(datetime.now())"
   ]
  },
  {
   "cell_type": "code",
   "execution_count": 11,
   "metadata": {},
   "outputs": [
    {
     "name": "stdout",
     "output_type": "stream",
     "text": [
      "0.9086334961158832\n"
     ]
    }
   ],
   "source": [
    "from math import sin as s\n",
    "\n",
    "print(s(1.14))"
   ]
  },
  {
   "cell_type": "code",
   "execution_count": 12,
   "metadata": {},
   "outputs": [
    {
     "name": "stdout",
     "output_type": "stream",
     "text": [
      "2\n"
     ]
    }
   ],
   "source": [
    "import math as m\n",
    "\n",
    "print(m.ceil(1.5))"
   ]
  },
  {
   "cell_type": "code",
   "execution_count": 13,
   "metadata": {},
   "outputs": [
    {
     "name": "stdout",
     "output_type": "stream",
     "text": [
      "0\n",
      "1\n",
      "2\n",
      "3\n",
      "4\n",
      "5\n",
      "6\n",
      "7\n",
      "8\n",
      "9\n"
     ]
    }
   ],
   "source": [
    "import time\n",
    "\n",
    "for i in range(10):\n",
    "    print(i)\n",
    "    time.sleep(1) "
   ]
  },
  {
   "cell_type": "code",
   "execution_count": 1,
   "metadata": {},
   "outputs": [
    {
     "name": "stdout",
     "output_type": "stream",
     "text": [
      "현재 운영체제 nt\n",
      "현재 폴더 c:\\source\\pythonsource\\basic\n",
      "현재 폴더 내부 요소 ['class1.py', 'class2.py', 'class3.py', 'class4.py', 'class5.py', 'condition.ipynb', 'dict.ipynb', 'encryption.txt', 'file.ipynb', 'function.ipynb', 'info.txt', 'inout.py', 'list.ipynb', 'loop.ipynb', 'module1.ipynb', 'module1.py', 'operation.py', 'origin.txt', 'result.txt', 'review.txt', 'sample.txt', 'score.txt', 'set.ipynb', 'string.ipynb', 'test.py', 'test1.txt', 'tuple.ipynb', 'variable.py', 'word.txt']\n"
     ]
    }
   ],
   "source": [
    "import os\n",
    "\n",
    "print(\"현재 운영체제\", os.name)\n",
    "print(\"현재 폴더\", os.getcwd())\n",
    "print(\"현재 폴더 내부 요소\", os.listdir())"
   ]
  },
  {
   "cell_type": "code",
   "execution_count": 2,
   "metadata": {},
   "outputs": [],
   "source": [
    "os.rename(\"./result.txt\",\"new.txt\")"
   ]
  },
  {
   "cell_type": "code",
   "execution_count": 3,
   "metadata": {},
   "outputs": [],
   "source": [
    "os.remove(\"./new.txt\")"
   ]
  },
  {
   "cell_type": "code",
   "execution_count": null,
   "metadata": {},
   "outputs": [],
   "source": []
  }
 ],
 "metadata": {
  "kernelspec": {
   "display_name": "venv",
   "language": "python",
   "name": "python3"
  },
  "language_info": {
   "codemirror_mode": {
    "name": "ipython",
    "version": 3
   },
   "file_extension": ".py",
   "mimetype": "text/x-python",
   "name": "python",
   "nbconvert_exporter": "python",
   "pygments_lexer": "ipython3",
   "version": "3.13.1"
  }
 },
 "nbformat": 4,
 "nbformat_minor": 2
}
